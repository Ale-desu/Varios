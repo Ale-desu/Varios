{
  "nbformat": 4,
  "nbformat_minor": 0,
  "metadata": {
    "colab": {
      "name": "interes compuesto",
      "provenance": [],
      "authorship_tag": "ABX9TyNs/JX7Jh9U7LERJfptFtXe",
      "include_colab_link": true
    },
    "kernelspec": {
      "name": "python3",
      "display_name": "Python 3"
    },
    "language_info": {
      "name": "python"
    }
  },
  "cells": [
    {
      "cell_type": "markdown",
      "metadata": {
        "id": "view-in-github",
        "colab_type": "text"
      },
      "source": [
        "<a href=\"https://colab.research.google.com/github/Ale-desu/Varios/blob/main/interes_compuesto.ipynb\" target=\"_parent\"><img src=\"https://colab.research.google.com/assets/colab-badge.svg\" alt=\"Open In Colab\"/></a>"
      ]
    },
    {
      "cell_type": "code",
      "metadata": {
        "colab": {
          "base_uri": "https://localhost:8080/"
        },
        "id": "5z2mzSqeEjk8",
        "outputId": "cd921594-01d4-44e2-905a-dd8fe3771f68"
      },
      "source": [
        "import math\n",
        "def intereses(P,inte,meses,year):\n",
        "  n=12/meses\n",
        "  i=(inte/100)/n\n",
        "  Vf=P*((1+i)**(n*year))\n",
        "  return Vf\n",
        "def inicio(Vf,inte,meses,year):\n",
        "  n=12/meses\n",
        "  i=(inte/100)/n\n",
        "  P=Vf/((1+i)**(n*year))\n",
        "  return P\n",
        "def tempus(Vf,P,inte,meses):\n",
        "  n=12/meses\n",
        "  i=(inte/100)/n\n",
        "  year=(math.log(Vf/P)/math.log(1+i))\n",
        "  return year\n",
        "def Avaro(Vf,P,meses,year):\n",
        "  n=12/meses\n",
        "  t=year*n\n",
        "  i=(((Vf/P)**(1/t))-1)*100\n",
        "  return i\n",
        "#prestamo=intereses(753,2,1,50)\n",
        "#print(prestamo)\n",
        "Cap_ini=inicio(5800,6,3,7.18)\n",
        "print(Cap_ini)\n",
        "#antaño=tempus(8000,2000,5.5,6)\n",
        "#print(antaño)\n",
        "#diablo=Avaro(3400,800,3,15)\n",
        "#print(diablo)"
      ],
      "execution_count": 1,
      "outputs": [
        {
          "output_type": "stream",
          "text": [
            "3782.0151147765314\n"
          ],
          "name": "stdout"
        }
      ]
    }
  ]
}