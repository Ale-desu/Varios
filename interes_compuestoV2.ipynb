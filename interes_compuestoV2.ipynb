{
  "nbformat": 4,
  "nbformat_minor": 0,
  "metadata": {
    "colab": {
      "name": "interes compuesto",
      "provenance": [],
      "authorship_tag": "ABX9TyOjx09Ch2eSj2d9N77vZe8t",
      "include_colab_link": true
    },
    "kernelspec": {
      "name": "python3",
      "display_name": "Python 3"
    },
    "language_info": {
      "name": "python"
    }
  },
  "cells": [
    {
      "cell_type": "markdown",
      "metadata": {
        "id": "view-in-github",
        "colab_type": "text"
      },
      "source": [
        "<a href=\"https://colab.research.google.com/github/Ale-desu/Varios/blob/Econom%C3%ADa/interes_compuestoV2.ipynb\" target=\"_parent\"><img src=\"https://colab.research.google.com/assets/colab-badge.svg\" alt=\"Open In Colab\"/></a>"
      ]
    },
    {
      "cell_type": "code",
      "metadata": {
        "colab": {
          "base_uri": "https://localhost:8080/"
        },
        "id": "5z2mzSqeEjk8",
        "outputId": "6549a991-662b-41fe-e4a2-767a06a66c00"
      },
      "source": [
        "import math\n",
        "class compuesto:\n",
        "  def __init__(self,Vf=None,P=None,inte=None,meses=None,year=None):\n",
        "    self.Vf=Vf\n",
        "    self.P=P\n",
        "    self.inte=inte\n",
        "    self.meses=meses\n",
        "    self.year=year\n",
        "\n",
        "  def ganancia(self):\n",
        "    n=12/self.meses\n",
        "    i=(self.inte/100)/n\n",
        "    Vf=self.P*((1+i)**(n*self.year))\n",
        "    print(\"%.2f\" %Vf)\n",
        "\n",
        "  def inicio(self):\n",
        "    n=12/self.meses\n",
        "    i=(self.inte/100)/n\n",
        "    P=self.Vf/((1+i)**(n*self.year))\n",
        "    print(\"%.2f\" %P)\n",
        "\n",
        "  def tempus(self):\n",
        "    n=12/self.meses\n",
        "    i=(self.inte/100)/n\n",
        "    year=(math.log(self.Vf/self.P)/math.log(1+i))\n",
        "    print(year)\n",
        "\n",
        "  def intereses(self):\n",
        "    n=12/self.meses\n",
        "    t=self.year*n\n",
        "    i=(((self.Vf/self.P)**(1/t))-1)*100\n",
        "    print(i)\n",
        "\n",
        "multi=compuesto(3400,800,0,3,15)\n",
        "multi.intereses()"
      ],
      "execution_count": 11,
      "outputs": [
        {
          "output_type": "stream",
          "text": [
            "2.4408442155177568\n"
          ],
          "name": "stdout"
        }
      ]
    }
  ]
}