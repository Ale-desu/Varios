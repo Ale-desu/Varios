{
  "nbformat": 4,
  "nbformat_minor": 0,
  "metadata": {
    "colab": {
      "name": "Torre de cajas.ipynb",
      "provenance": [],
      "authorship_tag": "ABX9TyOpBDa4JV5e2mH+Ln/Ui1af",
      "include_colab_link": true
    },
    "kernelspec": {
      "name": "python3",
      "display_name": "Python 3"
    },
    "language_info": {
      "name": "python"
    }
  },
  "cells": [
    {
      "cell_type": "markdown",
      "metadata": {
        "id": "view-in-github",
        "colab_type": "text"
      },
      "source": [
        "<a href=\"https://colab.research.google.com/github/Ale-desu/Varios/blob/main/Torre_de_cajas.ipynb\" target=\"_parent\"><img src=\"https://colab.research.google.com/assets/colab-badge.svg\" alt=\"Open In Colab\"/></a>"
      ]
    },
    {
      "cell_type": "code",
      "metadata": {
        "colab": {
          "base_uri": "https://localhost:8080/"
        },
        "id": "WhV9fKE-HeLn",
        "outputId": "8b395539-36f8-463e-fb69-21187902bf44"
      },
      "source": [
        "import random\n",
        "def mergeS(A,B):\n",
        "    lista=[]\n",
        "    while(len(A)>0 and len(B)>0):\n",
        "        if (A[0]>B[0]):\n",
        "            lista.append(A[0])\n",
        "            A.pop(0)\n",
        "        else:\n",
        "            lista.append(B[0])\n",
        "            B.pop(0)\n",
        "    lista=lista+A+B\n",
        "    return lista\n",
        "    \n",
        "def dividirListaS(Lista):\n",
        "    n = len(Lista)\n",
        "    return Lista[0:int(n/2)],Lista[int(n/2):]\n",
        "\n",
        "def mergeSortS(Lista):\n",
        "    if(len(Lista)>1):\n",
        "        listaA,listaB = dividirListaS(Lista)\n",
        "        listaA = mergeSortS(listaA)\n",
        "        listaB = mergeSortS(listaB)\n",
        "        Lista = mergeS(listaA,listaB)\n",
        "    return Lista\n",
        "\n",
        "def merge(A,B,OA,OB):\n",
        "    lista=[]\n",
        "    O=[]\n",
        "    while(len(A)>0 and len(B)>0):\n",
        "        if (A[0]>B[0]):\n",
        "            lista.append(A[0])\n",
        "            O.append(OA[0])\n",
        "            A.pop(0)\n",
        "            OA.pop(0)\n",
        "        else:\n",
        "            lista.append(B[0])\n",
        "            O.append(OB[0])\n",
        "            B.pop(0)\n",
        "            OB.pop(0)\n",
        "    lista=lista+A+B\n",
        "    O = O + OA + OB\n",
        "    return lista,O\n",
        "    \n",
        "def dividirLista(Lista,O):\n",
        "    n = len(Lista)\n",
        "    return Lista[0:int(n/2)],Lista[int(n/2):],O[0:int(n/2)],O[int(n/2):]\n",
        "\n",
        "def mergeSort(Lista,O):\n",
        "    if(len(Lista)>1):\n",
        "        listaA,listaB,OA,OB = dividirLista(Lista,O)\n",
        "        listaA,OA = mergeSort(listaA,OA)\n",
        "        listaB,OB = mergeSort(listaB,OB)\n",
        "        Lista,O = merge(listaA,listaB,OA,OB)\n",
        "    return Lista,O\n",
        "\n",
        "Cajas = []\n",
        "Cantidad=7\n",
        "for i in range(Cantidad):\n",
        "    X=random.gauss(8, 4)\n",
        "    Y=random.gauss(8, 4)\n",
        "    Z=random.gauss(8, 4)\n",
        "    if X<0:\n",
        "      X=X*-1\n",
        "    if Y<0:\n",
        "      Y=Y*-1\n",
        "    if Z<0:\n",
        "      Z=Z*-1\n",
        "    if (X*Y)<(X*Z) and (X*Y)<(Y*Z):\n",
        "      Cajas.append([X*Y,Z])\n",
        "    elif (X*Z)<(Y*Z):\n",
        "        Cajas.append([X*Z,Y])\n",
        "    else:\n",
        "        Cajas.append([Y*Z,X])\n",
        "\n",
        "Cajas = mergeSortS(Cajas)\n",
        "altura=0\n",
        "#print(Cajas)\n",
        "for h in range((Cantidad-1),-1,-1):\n",
        "  print(\"caja\",h,\":\", Cajas[h][0])\n",
        "  cont+=1\n",
        "  altura=altura+Cajas[h][1]\n",
        "print(\"la altura de la torre es de: \",altura)"
      ],
      "execution_count": 12,
      "outputs": [
        {
          "output_type": "stream",
          "text": [
            "caja 6 : 3.5176228106758463\n",
            "caja 5 : 11.567298179209354\n",
            "caja 4 : 27.148647140491484\n",
            "caja 3 : 36.29551289929291\n",
            "caja 2 : 47.61679228872172\n",
            "caja 1 : 60.463924647263106\n",
            "caja 0 : 115.54894040487734\n",
            "la altura de la torre es de:  82.22482855938843\n"
          ],
          "name": "stdout"
        }
      ]
    }
  ]
}