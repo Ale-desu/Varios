{
  "nbformat": 4,
  "nbformat_minor": 0,
  "metadata": {
    "colab": {
      "name": "CETES",
      "provenance": [],
      "authorship_tag": "ABX9TyPTEzJCcxIEsKtHOgaVlCy6",
      "include_colab_link": true
    },
    "kernelspec": {
      "name": "python3",
      "display_name": "Python 3"
    },
    "language_info": {
      "name": "python"
    }
  },
  "cells": [
    {
      "cell_type": "markdown",
      "metadata": {
        "id": "view-in-github",
        "colab_type": "text"
      },
      "source": [
        "<a href=\"https://colab.research.google.com/github/Ale-desu/Varios/blob/main/CETES.ipynb\" target=\"_parent\"><img src=\"https://colab.research.google.com/assets/colab-badge.svg\" alt=\"Open In Colab\"/></a>"
      ]
    },
    {
      "cell_type": "code",
      "metadata": {
        "id": "fP7bkdMS9Nug",
        "colab": {
          "base_uri": "https://localhost:8080/"
        },
        "outputId": "3d53a1aa-d67d-4256-f8c3-d01f60303438"
      },
      "source": [
        "def Ganancia (din,interes,dias):\n",
        "  i=interes/100\n",
        "  nom=dias/365\n",
        "  P=10/(1+(i*nom))\n",
        "  c=din/P\n",
        "  G=10-P\n",
        "  GT=(c*G)\n",
        "  return P,c,G,GT\n",
        "inversion=Ganancia(1500000,8,28)\n",
        "print(inversion)\n",
        "\n",
        "def inicial (F,interes,dias):\n",
        "  i=interes/100\n",
        "  nom=dias/365\n",
        "  P=F/(1+(i*nom))\n",
        "  return P\n",
        "dinero=inicial(1509205.48,8,28)\n",
        "print(dinero)\n",
        "\n",
        "def interes(P,F,dias):\n",
        "  nom=dias/365\n",
        "  I=((F/P)-1)/nom\n",
        "  return I\n",
        "escala=interes(1500000,1509205.48,28)\n",
        "print(escala*100 ,\"%\")\n",
        "\n",
        "def dias(P,F,interes):\n",
        "  i=interes/100\n",
        "  t=(((F/P)-1)/i)*365\n",
        "  return t\n",
        "tiempo=dias(1500000,1509205.48,8)\n",
        "print(tiempo)"
      ],
      "execution_count": 11,
      "outputs": [
        {
          "output_type": "stream",
          "text": [
            "(9.939004465744473, 150920.54794520547, 0.06099553425552706, 9205.479452054695)\n",
            "1500000.000544603\n",
            "8.000000476190563 %\n",
            "28.000001666666968\n"
          ],
          "name": "stdout"
        }
      ]
    }
  ]
}