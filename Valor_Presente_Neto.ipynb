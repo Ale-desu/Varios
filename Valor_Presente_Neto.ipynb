{
  "nbformat": 4,
  "nbformat_minor": 0,
  "metadata": {
    "colab": {
      "name": "Valor Presente Neto",
      "provenance": [],
      "collapsed_sections": [],
      "authorship_tag": "ABX9TyMYVuBx2P9KHutRS6DGZCV7",
      "include_colab_link": true
    },
    "kernelspec": {
      "name": "python3",
      "display_name": "Python 3"
    },
    "language_info": {
      "name": "python"
    }
  },
  "cells": [
    {
      "cell_type": "markdown",
      "metadata": {
        "id": "view-in-github",
        "colab_type": "text"
      },
      "source": [
        "<a href=\"https://colab.research.google.com/github/Ale-desu/Varios/blob/Econom%C3%ADa/Valor_Presente_Neto.ipynb\" target=\"_parent\"><img src=\"https://colab.research.google.com/assets/colab-badge.svg\" alt=\"Open In Colab\"/></a>"
      ]
    },
    {
      "cell_type": "code",
      "metadata": {
        "colab": {
          "base_uri": "https://localhost:8080/"
        },
        "id": "kJCpgM6Btld5",
        "outputId": "03d5f51d-e020-4c97-9f24-70a5b871da59"
      },
      "source": [
        "#se usa cuando la ganancia es fija y no hay muchos factores y etc\n",
        "class valorN:\n",
        "  def __init__(self,Periodos,TREMA):\n",
        "    self.N=Periodos\n",
        "    self.i=(TREMA/100)\n",
        "\n",
        "  def ganancia(self,A,i,n):\n",
        "    P=A*((((1+i)**n)-1)/(i*((1+i)**n)))\n",
        "    #print(\"ganancia\",\"%.2f\" %P)\n",
        "    return P\n",
        "  def rescate(self,F,i,n):\n",
        "    p=(F/((1+i)**n))\n",
        "    #print(\"rescate\",\"%.2f\" %p)\n",
        "    return p\n",
        "\n",
        "  def gasto(self,m,I,T):\n",
        "    F=(m)*(1+(self.T*I))\n",
        "    #print(\" %.2f\" %F)\n",
        "\n",
        "  def VPN(self,inversion,Flujo,Rescate=0):\n",
        "    if Rescate>0:\n",
        "      VPN=(-inversion)+self.ganancia(Flujo,self.i,self.N)+self.rescate(Rescate,self.i,self.N)\n",
        "    else:\n",
        "      VPN=(-inversion)+self.ganancia(Flujo,self.i,self.N)\n",
        "    print(\"%.2f\" %VPN)\n",
        "riesgo=valorN(5,25)\n",
        "riesgo.VPN(800000,340000,60000)"
      ],
      "execution_count": null,
      "outputs": [
        {
          "output_type": "stream",
          "text": [
            "134016.00\n"
          ],
          "name": "stdout"
        }
      ]
    },
    {
      "cell_type": "code",
      "metadata": {
        "colab": {
          "base_uri": "https://localhost:8080/"
        },
        "id": "Vpstvh43XwE_",
        "outputId": "7b3b13c7-d655-45b1-8bdb-af47b6adcb3f"
      },
      "source": [
        "# este se usa cuando hay muchos factores y la ganancia va cambiando\n",
        "class valorNComp:\n",
        "  def __init__(self,Periodos,TREMA):\n",
        "    self.N=Periodos\n",
        "    self.i=(TREMA/100)\n",
        "\n",
        "  def flujosGrad(self,grad,Flujo):\n",
        "    total=0\n",
        "    cont=1\n",
        "    for x in range(self.N):\n",
        "      delta=grad*x\n",
        "      total+=((Flujo+delta)/((1+self.i)**cont))\n",
        "      cont+=1\n",
        "    #print(total)\n",
        "    return total\n",
        "  \n",
        "  def quil (self,total,delta):\n",
        "    inicio=(total*(1+self.i))-delta\n",
        "    print(\"%.3f\" %inicio)\n",
        "\n",
        "  def rescate(self,F):\n",
        "    p=(F/((1+self.i)**self.N))\n",
        "   # print(\"rescate\",\"%.2f\" %p)\n",
        "    return p\n",
        "\n",
        "  def VPNComp(self,inversion,Flujo,Rescate,Gasto):\n",
        "    VPN=(-inversion)+Flujo+Rescate-Gasto+25000\n",
        "    print(\"%.2f\" %VPN)\n",
        "\n",
        "riesgo2=valorNComp(10,20)\n",
        "a=riesgo2.flujosGrad(4000000,20000000)\n",
        "b=riesgo2.rescate(0)\n",
        "c=0#riesgo2.flujosGrad(2000,20000)\n",
        "riesgo2.VPNComp(0,a,b,c)\n",
        "#riesgo2.quil(20000000,4000000)\n",
        "#20,000,000"
      ],
      "execution_count": null,
      "outputs": [
        {
          "output_type": "stream",
          "text": [
            "135422766.84\n"
          ],
          "name": "stdout"
        }
      ]
    }
  ]
}