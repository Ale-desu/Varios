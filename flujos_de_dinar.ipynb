{
  "nbformat": 4,
  "nbformat_minor": 0,
  "metadata": {
    "colab": {
      "name": "flujos de dinar",
      "provenance": [],
      "authorship_tag": "ABX9TyOVaGz+VXXAcCB6/wOmVoWZ",
      "include_colab_link": true
    },
    "kernelspec": {
      "name": "python3",
      "display_name": "Python 3"
    },
    "language_info": {
      "name": "python"
    }
  },
  "cells": [
    {
      "cell_type": "markdown",
      "metadata": {
        "id": "view-in-github",
        "colab_type": "text"
      },
      "source": [
        "<a href=\"https://colab.research.google.com/github/Ale-desu/Varios/blob/main/flujos_de_dinar.ipynb\" target=\"_parent\"><img src=\"https://colab.research.google.com/assets/colab-badge.svg\" alt=\"Open In Colab\"/></a>"
      ]
    },
    {
      "cell_type": "code",
      "metadata": {
        "colab": {
          "base_uri": "https://localhost:8080/"
        },
        "id": "dQK9Cx6e5Jtx",
        "outputId": "e35dc031-61e1-4fef-ddb4-814d566ff258"
      },
      "source": [
        "\n",
        "def final(A,inte,meses,year):\n",
        "  n=12/meses\n",
        "  i=(inte/100)/n\n",
        "  Vf=A*((((1+i)**(n*year))-1)/i)\n",
        "  return Vf\n",
        "def depositos(Vf,inte,meses,year):\n",
        "  n=12/meses\n",
        "  i=(inte/100)/n\n",
        "  z=((1+i)**(n*year))-1\n",
        "  An=Vf*(i/z)\n",
        "  return An\n",
        "def retiros_temp(P,inte,meses,year):\n",
        "  n=12/meses\n",
        "  i=(inte/100)/n\n",
        "  A=P*((i*(1+i)**(n*year))/(((1+i)**(n*year))-1))\n",
        "  return A\n",
        "def retiros_din(A,inte,meses,year):\n",
        "  n=12/meses\n",
        "  i=(inte/100)/n\n",
        "  P=A*((((1+i)**(n*year))-1)/(i*(1+i)**(n*year)))\n",
        "  return P\n",
        "\n",
        "intro=final(2000,8,12,1)\n",
        "print(intro)\n",
        "#intro=depositos(200000,8.5,12,18)\n",
        "#print(intro)\n",
        "#sacar=retiros_temp(200000,4,1,2)\n",
        "#print(sacar)\n",
        "#sacar_2=retiros_din(4500,5,1,10)\n",
        "#print(sacar_2)\n",
        "\n",
        "#los meses son de los pagos, no de la capitalización"
      ],
      "execution_count": 33,
      "outputs": [
        {
          "output_type": "stream",
          "text": [
            "2000.0000000000018\n"
          ],
          "name": "stdout"
        }
      ]
    }
  ]
}