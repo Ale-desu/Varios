{
  "nbformat": 4,
  "nbformat_minor": 0,
  "metadata": {
    "colab": {
      "name": "Gradiente",
      "provenance": [],
      "authorship_tag": "ABX9TyPDnLnMUkflgGJ1NG1nRSZi",
      "include_colab_link": true
    },
    "kernelspec": {
      "name": "python3",
      "display_name": "Python 3"
    },
    "language_info": {
      "name": "python"
    }
  },
  "cells": [
    {
      "cell_type": "markdown",
      "metadata": {
        "id": "view-in-github",
        "colab_type": "text"
      },
      "source": [
        "<a href=\"https://colab.research.google.com/github/Ale-desu/Varios/blob/Econom%C3%ADa/Gradiente.ipynb\" target=\"_parent\"><img src=\"https://colab.research.google.com/assets/colab-badge.svg\" alt=\"Open In Colab\"/></a>"
      ]
    },
    {
      "cell_type": "code",
      "metadata": {
        "id": "L3VliA4Re2gQ",
        "colab": {
          "base_uri": "https://localhost:8080/"
        },
        "outputId": "f7b324ce-ce23-4738-a2c1-803721a452db"
      },
      "source": [
        "class Gradiente:\n",
        "  def __init__(self,P,inter,Dias,year,veces):\n",
        "    self.p=P\n",
        "    self.i=self.porciento(inter)\n",
        "    self.T=self.Exacto(Dias,year)\n",
        "    self.n=veces\n",
        "  def porciento(self,inter):\n",
        "    i=inter/100\n",
        "    return i\n",
        "  def Exacto(self,dias,year):\n",
        "    if dias!=0:\n",
        "      t=dias/365\n",
        "    else:\n",
        "      t=year\n",
        "    return t\n",
        "  def interesS(self,):\n",
        "    F=(self.p)*(1+(self.T*self.i))\n",
        "    print(\" %.2f\" %F)\n",
        "\n",
        "  def Grad_Sim1(self,grad):\n",
        "    cont=0\n",
        "    F=0\n",
        "    for x in range((self.n-1),-1,-1):\n",
        "      delta=grad*cont\n",
        "      F+=((self.p + delta)*(1+self.i)**x)\n",
        "      cont+=1\n",
        "    io=self.p+delta\n",
        "\n",
        "    print(self.p,\"ii\",delta)\n",
        "    print(\" %.2f\" %F)\n",
        "  def Grad_Geom(self,J):\n",
        "    j=self.porciento(J)    \n",
        "    if self.i==j :\n",
        "      F=(self.p*self.n)/(1+j)\n",
        "      print(\" %.2f\" %F)\n",
        "      print(\" A\")\n",
        "    else:\n",
        "      print(\" B\")\n",
        "      F=self.p*(((1-((1+j)**self.n)/((1+self.i)**self.n)))/(self.i-j))\n",
        "      print(\" %.2f\" %F)\n",
        "\n",
        "#j es el porsentaje de intereses de cobro\n",
        "# el porcentaje i es de los intereses que ganan\n",
        "#(p,interes i,Dias,años,n)\n",
        "meses=8/12\n",
        "varo=Gradiente(12000,12,0,meses,0)\n",
        "varo.interesS()\n",
        "#total=57946.25+114028.28+160284.30\n",
        "#print(total)\n",
        "#11200\n",
        "#10931.57\n",
        "#12960.00"
      ],
      "execution_count": 73,
      "outputs": [
        {
          "output_type": "stream",
          "text": [
            " 12960.00\n"
          ],
          "name": "stdout"
        }
      ]
    }
  ]
}