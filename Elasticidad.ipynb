{
  "nbformat": 4,
  "nbformat_minor": 0,
  "metadata": {
    "colab": {
      "name": "Elasticidad",
      "provenance": [],
      "authorship_tag": "ABX9TyPZORN3mQSQ9eZkzp9PV8y9",
      "include_colab_link": true
    },
    "kernelspec": {
      "name": "python3",
      "display_name": "Python 3"
    }
  },
  "cells": [
    {
      "cell_type": "markdown",
      "metadata": {
        "id": "view-in-github",
        "colab_type": "text"
      },
      "source": [
        "<a href=\"https://colab.research.google.com/github/Ale-desu/Varios/blob/main/Elasticidad.ipynb\" target=\"_parent\"><img src=\"https://colab.research.google.com/assets/colab-badge.svg\" alt=\"Open In Colab\"/></a>"
      ]
    },
    {
      "cell_type": "code",
      "metadata": {
        "colab": {
          "base_uri": "https://localhost:8080/"
        },
        "id": "AOI39l8k8ohk",
        "outputId": "b163b864-9317-4296-ed85-eb22f9f394c7"
      },
      "source": [
        "class elasticidad:\r\n",
        "        def __init__(self):\r\n",
        "          None\r\n",
        "        def elasticidad_dem (self,Q1,Q2, puntos):\r\n",
        "          demanda=(Q1-Q2)/(Q1)\r\n",
        "          print(f\"{demanda} demanda en {puntos}\")\r\n",
        "          return demanda\r\n",
        "\r\n",
        "        def __elas_precio(self,P1,P2,puntos):\r\n",
        "          precio=(P1-P2)/(P1)\r\n",
        "          print(f\"{precio} precio en {puntos}\")\r\n",
        "          return precio\r\n",
        "\r\n",
        "        def elas_tot(self,P1,P2,Q1,Q2,punto):\r\n",
        "          total=self.elasticidad_dem(Q1,Q2,punto)/self.__elas_precio(P1,P2,punto)\r\n",
        "          print(f\"{total} elasticidad total en los puntos: {punto} \")\r\n",
        "          if -total==0:\r\n",
        "            print(\"Perfectamente inelástica\\n\")\r\n",
        "          elif -total>0 and -total<1:\r\n",
        "            print(\"inelastica \\n\")\r\n",
        "          elif -total==1:\r\n",
        "            print(\"Elástica unitaria \\n\")\r\n",
        "          elif -total >1 and -total <99999999999999999:\r\n",
        "            print(\"Elástica \\n\")\r\n",
        "          else:\r\n",
        "            print(\"Perfectamente elástica \\n\")\r\n",
        "                \r\n",
        "resultado=elasticidad()\r\n",
        "\r\n",
        "resultado.elas_tot(20,17,5,9,\"A-B\")\r\n",
        "resultado.elas_tot(17,14,9,11,\"B-C\")\r\n",
        "resultado.elas_tot(14,12,11,17,\"C-D\")\r\n",
        "resultado.elas_tot(12,10,17,20,\"D-E\")\r\n",
        "resultado.elas_tot(10,7,20,22,\"E-F\")"
      ],
      "execution_count": 16,
      "outputs": [
        {
          "output_type": "stream",
          "text": [
            "0.15 demanda en A-B\n",
            "-0.8 precio en A-B\n",
            "-0.18749999999999997 elasticidad total en los puntos: A-B \n",
            "inelastica \n",
            "\n",
            "-0.8 demanda en A-B\n",
            "0.15 precio en A-B\n",
            "-5.333333333333334 elasticidad total en los puntos: A-B \n",
            "Elástica \n",
            "\n",
            "-0.2222222222222222 demanda en B-C\n",
            "0.17647058823529413 precio en B-C\n",
            "-1.259259259259259 elasticidad total en los puntos: B-C \n",
            "Elástica \n",
            "\n",
            "-0.5454545454545454 demanda en C-D\n",
            "0.14285714285714285 precio en C-D\n",
            "-3.818181818181818 elasticidad total en los puntos: C-D \n",
            "Elástica \n",
            "\n",
            "-0.17647058823529413 demanda en D-E\n",
            "0.16666666666666666 precio en D-E\n",
            "-1.058823529411765 elasticidad total en los puntos: D-E \n",
            "Elástica \n",
            "\n",
            "-0.1 demanda en E-F\n",
            "0.3 precio en E-F\n",
            "-0.33333333333333337 elasticidad total en los puntos: E-F \n",
            "inelastica \n",
            "\n"
          ],
          "name": "stdout"
        }
      ]
    }
  ]
}