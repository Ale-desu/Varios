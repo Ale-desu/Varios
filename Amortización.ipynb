{
  "nbformat": 4,
  "nbformat_minor": 0,
  "metadata": {
    "colab": {
      "name": "Amortización",
      "provenance": [],
      "collapsed_sections": [],
      "authorship_tag": "ABX9TyNNTPOZ4nlZeNnS7J7kbD+d",
      "include_colab_link": true
    },
    "kernelspec": {
      "name": "python3",
      "display_name": "Python 3"
    },
    "language_info": {
      "name": "python"
    }
  },
  "cells": [
    {
      "cell_type": "markdown",
      "metadata": {
        "id": "view-in-github",
        "colab_type": "text"
      },
      "source": [
        "<a href=\"https://colab.research.google.com/github/Ale-desu/Varios/blob/main/Amortizaci%C3%B3n.ipynb\" target=\"_parent\"><img src=\"https://colab.research.google.com/assets/colab-badge.svg\" alt=\"Open In Colab\"/></a>"
      ]
    },
    {
      "cell_type": "code",
      "metadata": {
        "colab": {
          "base_uri": "https://localhost:8080/"
        },
        "id": "cuwRKsXfd93D",
        "outputId": "654ce919-1b97-49a2-d06d-4fa31c64b3d7"
      },
      "source": [
        "class Amortizacion:\n",
        "  def __init__(self,P,inter,meses,interT):\n",
        "    self.P=P\n",
        "    self.i=self.interes(inter,interT)\n",
        "    self.A=self.Adeudo(meses)\n",
        "    self.n=meses\n",
        "  def interes(self,inter,interT):\n",
        "    an=12*interT\n",
        "    i=(inter/100)/an\n",
        "   #print(i)\n",
        "    return i\n",
        "  def Adeudo(self,meses):\n",
        "    a=self.P*(self.i*((1+self.i)**meses))/(((1+self.i)**meses)-1)\n",
        "    #print(a)\n",
        "    return a\n",
        "  def tabla(self):\n",
        "    D=self.P\n",
        "    Saldo=0\n",
        "    j=0\n",
        "    cont=1\n",
        "    pas=0\n",
        "    print(\"meses     Deuda \",end=\"\\t\")\n",
        "    print(\"   Pago\\t       i   \\t A-i          Saldo\")\n",
        "    for x in range(self.n):\n",
        "      j=D*self.i\n",
        "      B=self.A-j\n",
        "      Saldo=D-B\n",
        "      print(\" \",cont,\"\\t %.2f\" %D,\"\\t %.2f\" % self.A,\"   %.2f\" % j,\" \\t%.2f\" % B,\"   %.2f\" % Saldo,)\n",
        "      D=Saldo\n",
        "      if x<=12:\n",
        "        pas+=self.A+j\n",
        "      #if x==4:\n",
        "       # pas+=D\n",
        "      cont+=1\n",
        "    print(\"%.2f\" %pas)\n",
        "\n",
        "tabla=Amortizacion(140000,8,12,1)\n",
        "tabla.tabla()"
      ],
      "execution_count": 74,
      "outputs": [
        {
          "output_type": "stream",
          "text": [
            "meses     Deuda \t   Pago\t       i   \t A-i          Saldo\n",
            "  1 \t 140000.00 \t 12178.38    933.33  \t11245.05    128754.95\n",
            "  2 \t 128754.95 \t 12178.38    858.37  \t11320.01    117434.94\n",
            "  3 \t 117434.94 \t 12178.38    782.90  \t11395.48    106039.46\n",
            "  4 \t 106039.46 \t 12178.38    706.93  \t11471.45    94568.01\n",
            "  5 \t 94568.01 \t 12178.38    630.45  \t11547.93    83020.08\n",
            "  6 \t 83020.08 \t 12178.38    553.47  \t11624.91    71395.17\n",
            "  7 \t 71395.17 \t 12178.38    475.97  \t11702.41    59692.76\n",
            "  8 \t 59692.76 \t 12178.38    397.95  \t11780.43    47912.33\n",
            "  9 \t 47912.33 \t 12178.38    319.42  \t11858.96    36053.36\n",
            "  10 \t 36053.36 \t 12178.38    240.36  \t11938.02    24115.34\n",
            "  11 \t 24115.34 \t 12178.38    160.77  \t12017.61    12097.73\n",
            "  12 \t 12097.73 \t 12178.38    80.65  \t12097.73    -0.00\n",
            "152281.12\n"
          ],
          "name": "stdout"
        }
      ]
    },
    {
      "cell_type": "code",
      "metadata": {
        "id": "_vWHOGHvWfdB"
      },
      "source": [
        ""
      ],
      "execution_count": null,
      "outputs": []
    }
  ]
}